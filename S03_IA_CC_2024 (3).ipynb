{
  "nbformat": 4,
  "nbformat_minor": 0,
  "metadata": {
    "colab": {
      "provenance": []
    },
    "kernelspec": {
      "name": "python3",
      "display_name": "Python 3"
    },
    "language_info": {
      "name": "python"
    }
  },
  "cells": [
    {
      "cell_type": "code",
      "execution_count": null,
      "metadata": {
        "id": "rs-1trcaTglW"
      },
      "outputs": [],
      "source": [
        "# Importar as libs\n",
        "import torch\n",
        "import torchvision\n",
        "import numpy as np\n",
        "import matplotlib.pyplot as plt\n",
        "from sklearn import datasets"
      ]
    },
    {
      "cell_type": "markdown",
      "metadata": {
        "id": "TCT7E08OpwEi"
      },
      "source": [
        "# Classe Net do Pytorch\n",
        "> Criação de um modelo de Rede Neural\n",
        "![picture](https://drive.google.com/uc?export=view&id=1uDRhXxnzGk8QoZHX1oqhmHPuMzxJHQZp)"
      ]
    },
    {
      "cell_type": "code",
      "source": [
        "# Criar um modelo de Rede Neural\n",
        "class Net(torch.nn.Module):\n",
        "  def __init__(self, input_size, hidden_size, output_size):\n",
        "    super(Net, self).__init__()\n",
        "    self.input_size = input_size\n",
        "    self.hidden_size = hidden_size\n",
        "    self.output_size = output_size\n",
        "    self.fc1 = torch.nn.Linear(self.input_size, self.hidden_size) #full connected\n",
        "    self.relu = torch.nn.ReLU() #(0, infinito)\n",
        "    self.fc2 = torch.nn.Linear(self.hidden_size, self.output_size)\n",
        "    self.sigmoid = torch.nn.Sigmoid() #(0, 1)\n",
        "  def forward(self, x):\n",
        "    hidden = self.fc1(x)\n",
        "    relu = self.relu(hidden)\n",
        "    output = self.fc2(relu)\n",
        "    output = self.sigmoid(output)\n",
        "    return output"
      ],
      "metadata": {
        "id": "Ph3FG-3_TkTz"
      },
      "execution_count": null,
      "outputs": []
    },
    {
      "cell_type": "markdown",
      "source": [
        "# Preparação dos dados\n",
        "# Organizar a saída do dataset\n",
        "# Converter para tensor\n",
        "# Embaralhar os dados\n",
        "# Separar os dados em treinamento e teste\n",
        "# Montar o modelo de redes neurais\n",
        "# Treinamento do modelo\n",
        "# Teste do modelo\n",
        "# Gráficos"
      ],
      "metadata": {
        "id": "AsumAH8XUS3l"
      }
    },
    {
      "cell_type": "code",
      "source": [
        "# Carregar os dados\n",
        "iris = datasets.load_iris()\n",
        "\n",
        "# Organizar a saída do dataset\n",
        "dados = iris.data\n",
        "classes = iris.target\n",
        "nomesClasses = iris.target_names"
      ],
      "metadata": {
        "id": "c_y3h9OhUrEi"
      },
      "execution_count": null,
      "outputs": []
    },
    {
      "cell_type": "code",
      "source": [
        "nomesClasses"
      ],
      "metadata": {
        "colab": {
          "base_uri": "https://localhost:8080/"
        },
        "id": "wCAG1j_7XEO0",
        "outputId": "ac798797-6f56-4bae-a45f-d8d9cef409ec"
      },
      "execution_count": null,
      "outputs": [
        {
          "output_type": "execute_result",
          "data": {
            "text/plain": [
              "array(['setosa', 'versicolor', 'virginica'], dtype='<U10')"
            ]
          },
          "metadata": {},
          "execution_count": 4
        }
      ]
    },
    {
      "cell_type": "code",
      "source": [
        "# Organizar a saída do dataset\n",
        "saida = np.where(classes==0, 1, 0) # setosa\n",
        "# saida = np.where(classes==1, 1, 0) # versicolor\n",
        "# saida = np.where(classes==2, 1, 0) # virginica\n",
        "saida"
      ],
      "metadata": {
        "colab": {
          "base_uri": "https://localhost:8080/"
        },
        "id": "PPdqYvJEUWSd",
        "outputId": "8ce1c7c7-2c64-40c2-83d7-7a2ceb420e7a"
      },
      "execution_count": null,
      "outputs": [
        {
          "output_type": "execute_result",
          "data": {
            "text/plain": [
              "array([1, 1, 1, 1, 1, 1, 1, 1, 1, 1, 1, 1, 1, 1, 1, 1, 1, 1, 1, 1, 1, 1,\n",
              "       1, 1, 1, 1, 1, 1, 1, 1, 1, 1, 1, 1, 1, 1, 1, 1, 1, 1, 1, 1, 1, 1,\n",
              "       1, 1, 1, 1, 1, 1, 0, 0, 0, 0, 0, 0, 0, 0, 0, 0, 0, 0, 0, 0, 0, 0,\n",
              "       0, 0, 0, 0, 0, 0, 0, 0, 0, 0, 0, 0, 0, 0, 0, 0, 0, 0, 0, 0, 0, 0,\n",
              "       0, 0, 0, 0, 0, 0, 0, 0, 0, 0, 0, 0, 0, 0, 0, 0, 0, 0, 0, 0, 0, 0,\n",
              "       0, 0, 0, 0, 0, 0, 0, 0, 0, 0, 0, 0, 0, 0, 0, 0, 0, 0, 0, 0, 0, 0,\n",
              "       0, 0, 0, 0, 0, 0, 0, 0, 0, 0, 0, 0, 0, 0, 0, 0, 0, 0])"
            ]
          },
          "metadata": {},
          "execution_count": 5
        }
      ]
    },
    {
      "cell_type": "code",
      "source": [
        "# Três neurônios na camada de saída\n",
        "novasaida = np.zeros((saida.size, 3))\n",
        "novasaida[0:50, 0] = 1\n",
        "novasaida[50:100, 1] = 1\n",
        "novasaida[100:150, 2] = 1\n",
        "novasaida"
      ],
      "metadata": {
        "colab": {
          "base_uri": "https://localhost:8080/"
        },
        "id": "ATNMAHBTXwhD",
        "outputId": "7ff5ad5b-368b-4ea4-9a97-eeb313fc2c24"
      },
      "execution_count": null,
      "outputs": [
        {
          "output_type": "execute_result",
          "data": {
            "text/plain": [
              "array([[1., 0., 0.],\n",
              "       [1., 0., 0.],\n",
              "       [1., 0., 0.],\n",
              "       [1., 0., 0.],\n",
              "       [1., 0., 0.],\n",
              "       [1., 0., 0.],\n",
              "       [1., 0., 0.],\n",
              "       [1., 0., 0.],\n",
              "       [1., 0., 0.],\n",
              "       [1., 0., 0.],\n",
              "       [1., 0., 0.],\n",
              "       [1., 0., 0.],\n",
              "       [1., 0., 0.],\n",
              "       [1., 0., 0.],\n",
              "       [1., 0., 0.],\n",
              "       [1., 0., 0.],\n",
              "       [1., 0., 0.],\n",
              "       [1., 0., 0.],\n",
              "       [1., 0., 0.],\n",
              "       [1., 0., 0.],\n",
              "       [1., 0., 0.],\n",
              "       [1., 0., 0.],\n",
              "       [1., 0., 0.],\n",
              "       [1., 0., 0.],\n",
              "       [1., 0., 0.],\n",
              "       [1., 0., 0.],\n",
              "       [1., 0., 0.],\n",
              "       [1., 0., 0.],\n",
              "       [1., 0., 0.],\n",
              "       [1., 0., 0.],\n",
              "       [1., 0., 0.],\n",
              "       [1., 0., 0.],\n",
              "       [1., 0., 0.],\n",
              "       [1., 0., 0.],\n",
              "       [1., 0., 0.],\n",
              "       [1., 0., 0.],\n",
              "       [1., 0., 0.],\n",
              "       [1., 0., 0.],\n",
              "       [1., 0., 0.],\n",
              "       [1., 0., 0.],\n",
              "       [1., 0., 0.],\n",
              "       [1., 0., 0.],\n",
              "       [1., 0., 0.],\n",
              "       [1., 0., 0.],\n",
              "       [1., 0., 0.],\n",
              "       [1., 0., 0.],\n",
              "       [1., 0., 0.],\n",
              "       [1., 0., 0.],\n",
              "       [1., 0., 0.],\n",
              "       [1., 0., 0.],\n",
              "       [0., 1., 0.],\n",
              "       [0., 1., 0.],\n",
              "       [0., 1., 0.],\n",
              "       [0., 1., 0.],\n",
              "       [0., 1., 0.],\n",
              "       [0., 1., 0.],\n",
              "       [0., 1., 0.],\n",
              "       [0., 1., 0.],\n",
              "       [0., 1., 0.],\n",
              "       [0., 1., 0.],\n",
              "       [0., 1., 0.],\n",
              "       [0., 1., 0.],\n",
              "       [0., 1., 0.],\n",
              "       [0., 1., 0.],\n",
              "       [0., 1., 0.],\n",
              "       [0., 1., 0.],\n",
              "       [0., 1., 0.],\n",
              "       [0., 1., 0.],\n",
              "       [0., 1., 0.],\n",
              "       [0., 1., 0.],\n",
              "       [0., 1., 0.],\n",
              "       [0., 1., 0.],\n",
              "       [0., 1., 0.],\n",
              "       [0., 1., 0.],\n",
              "       [0., 1., 0.],\n",
              "       [0., 1., 0.],\n",
              "       [0., 1., 0.],\n",
              "       [0., 1., 0.],\n",
              "       [0., 1., 0.],\n",
              "       [0., 1., 0.],\n",
              "       [0., 1., 0.],\n",
              "       [0., 1., 0.],\n",
              "       [0., 1., 0.],\n",
              "       [0., 1., 0.],\n",
              "       [0., 1., 0.],\n",
              "       [0., 1., 0.],\n",
              "       [0., 1., 0.],\n",
              "       [0., 1., 0.],\n",
              "       [0., 1., 0.],\n",
              "       [0., 1., 0.],\n",
              "       [0., 1., 0.],\n",
              "       [0., 1., 0.],\n",
              "       [0., 1., 0.],\n",
              "       [0., 1., 0.],\n",
              "       [0., 1., 0.],\n",
              "       [0., 1., 0.],\n",
              "       [0., 1., 0.],\n",
              "       [0., 1., 0.],\n",
              "       [0., 1., 0.],\n",
              "       [0., 1., 0.],\n",
              "       [0., 0., 1.],\n",
              "       [0., 0., 1.],\n",
              "       [0., 0., 1.],\n",
              "       [0., 0., 1.],\n",
              "       [0., 0., 1.],\n",
              "       [0., 0., 1.],\n",
              "       [0., 0., 1.],\n",
              "       [0., 0., 1.],\n",
              "       [0., 0., 1.],\n",
              "       [0., 0., 1.],\n",
              "       [0., 0., 1.],\n",
              "       [0., 0., 1.],\n",
              "       [0., 0., 1.],\n",
              "       [0., 0., 1.],\n",
              "       [0., 0., 1.],\n",
              "       [0., 0., 1.],\n",
              "       [0., 0., 1.],\n",
              "       [0., 0., 1.],\n",
              "       [0., 0., 1.],\n",
              "       [0., 0., 1.],\n",
              "       [0., 0., 1.],\n",
              "       [0., 0., 1.],\n",
              "       [0., 0., 1.],\n",
              "       [0., 0., 1.],\n",
              "       [0., 0., 1.],\n",
              "       [0., 0., 1.],\n",
              "       [0., 0., 1.],\n",
              "       [0., 0., 1.],\n",
              "       [0., 0., 1.],\n",
              "       [0., 0., 1.],\n",
              "       [0., 0., 1.],\n",
              "       [0., 0., 1.],\n",
              "       [0., 0., 1.],\n",
              "       [0., 0., 1.],\n",
              "       [0., 0., 1.],\n",
              "       [0., 0., 1.],\n",
              "       [0., 0., 1.],\n",
              "       [0., 0., 1.],\n",
              "       [0., 0., 1.],\n",
              "       [0., 0., 1.],\n",
              "       [0., 0., 1.],\n",
              "       [0., 0., 1.],\n",
              "       [0., 0., 1.],\n",
              "       [0., 0., 1.],\n",
              "       [0., 0., 1.],\n",
              "       [0., 0., 1.],\n",
              "       [0., 0., 1.],\n",
              "       [0., 0., 1.],\n",
              "       [0., 0., 1.],\n",
              "       [0., 0., 1.]])"
            ]
          },
          "metadata": {},
          "execution_count": 6
        }
      ]
    },
    {
      "cell_type": "code",
      "source": [
        "classes"
      ],
      "metadata": {
        "colab": {
          "base_uri": "https://localhost:8080/"
        },
        "id": "zE196ywSZh1U",
        "outputId": "433b21b9-8da1-42dd-85b9-a8fecd08ceb3"
      },
      "execution_count": null,
      "outputs": [
        {
          "output_type": "execute_result",
          "data": {
            "text/plain": [
              "array([0, 0, 0, 0, 0, 0, 0, 0, 0, 0, 0, 0, 0, 0, 0, 0, 0, 0, 0, 0, 0, 0,\n",
              "       0, 0, 0, 0, 0, 0, 0, 0, 0, 0, 0, 0, 0, 0, 0, 0, 0, 0, 0, 0, 0, 0,\n",
              "       0, 0, 0, 0, 0, 0, 1, 1, 1, 1, 1, 1, 1, 1, 1, 1, 1, 1, 1, 1, 1, 1,\n",
              "       1, 1, 1, 1, 1, 1, 1, 1, 1, 1, 1, 1, 1, 1, 1, 1, 1, 1, 1, 1, 1, 1,\n",
              "       1, 1, 1, 1, 1, 1, 1, 1, 1, 1, 1, 1, 2, 2, 2, 2, 2, 2, 2, 2, 2, 2,\n",
              "       2, 2, 2, 2, 2, 2, 2, 2, 2, 2, 2, 2, 2, 2, 2, 2, 2, 2, 2, 2, 2, 2,\n",
              "       2, 2, 2, 2, 2, 2, 2, 2, 2, 2, 2, 2, 2, 2, 2, 2, 2, 2])"
            ]
          },
          "metadata": {},
          "execution_count": 7
        }
      ]
    },
    {
      "cell_type": "code",
      "source": [
        "# Converter para tensor\n",
        "entrada = torch.FloatTensor(dados)\n",
        "saida = torch.FloatTensor(novasaida)"
      ],
      "metadata": {
        "id": "4WFqUb01a50u"
      },
      "execution_count": null,
      "outputs": []
    },
    {
      "cell_type": "code",
      "source": [
        "# Embaralhar os dados\n",
        "from sklearn.utils import shuffle\n",
        "entrada, saida = shuffle(entrada, saida)"
      ],
      "metadata": {
        "collapsed": true,
        "id": "1ChWV2O3bEJc"
      },
      "execution_count": null,
      "outputs": []
    },
    {
      "cell_type": "code",
      "source": [
        "# Separar os dados em treinamento e teste\n",
        "entrada_treinamento = entrada[0:130, :]\n",
        "entrada_teste = entrada[130:,:]\n",
        "\n",
        "saida_treinamento = saida[0:130]\n",
        "saida_teste = saida[130:]"
      ],
      "metadata": {
        "id": "BW6hJzmBcQMt"
      },
      "execution_count": null,
      "outputs": []
    },
    {
      "cell_type": "code",
      "source": [
        "print(entrada_teste)\n",
        "print(saida_teste)"
      ],
      "metadata": {
        "colab": {
          "base_uri": "https://localhost:8080/"
        },
        "id": "z6Lf2G-1dewq",
        "outputId": "a1b49e6d-62b6-4a9b-dc03-57b92dbd46f8"
      },
      "execution_count": null,
      "outputs": [
        {
          "output_type": "stream",
          "name": "stdout",
          "text": [
            "tensor([[5.4000, 3.7000, 1.5000, 0.2000],\n",
            "        [6.4000, 3.2000, 4.5000, 1.5000],\n",
            "        [5.0000, 3.6000, 1.4000, 0.2000],\n",
            "        [5.0000, 2.0000, 3.5000, 1.0000],\n",
            "        [7.2000, 3.2000, 6.0000, 1.8000],\n",
            "        [6.3000, 3.3000, 4.7000, 1.6000],\n",
            "        [6.7000, 3.0000, 5.2000, 2.3000],\n",
            "        [7.1000, 3.0000, 5.9000, 2.1000],\n",
            "        [6.7000, 3.1000, 4.7000, 1.5000],\n",
            "        [4.8000, 3.0000, 1.4000, 0.1000],\n",
            "        [5.8000, 2.6000, 4.0000, 1.2000],\n",
            "        [4.7000, 3.2000, 1.3000, 0.2000],\n",
            "        [4.4000, 2.9000, 1.4000, 0.2000],\n",
            "        [5.0000, 3.2000, 1.2000, 0.2000],\n",
            "        [6.5000, 3.0000, 5.5000, 1.8000],\n",
            "        [5.0000, 3.4000, 1.5000, 0.2000],\n",
            "        [5.7000, 2.5000, 5.0000, 2.0000],\n",
            "        [6.2000, 2.8000, 4.8000, 1.8000],\n",
            "        [6.1000, 2.6000, 5.6000, 1.4000],\n",
            "        [7.6000, 3.0000, 6.6000, 2.1000]])\n",
            "tensor([[1., 0., 0.],\n",
            "        [0., 1., 0.],\n",
            "        [1., 0., 0.],\n",
            "        [0., 1., 0.],\n",
            "        [0., 0., 1.],\n",
            "        [0., 1., 0.],\n",
            "        [0., 0., 1.],\n",
            "        [0., 0., 1.],\n",
            "        [0., 1., 0.],\n",
            "        [1., 0., 0.],\n",
            "        [0., 1., 0.],\n",
            "        [1., 0., 0.],\n",
            "        [1., 0., 0.],\n",
            "        [1., 0., 0.],\n",
            "        [0., 0., 1.],\n",
            "        [1., 0., 0.],\n",
            "        [0., 0., 1.],\n",
            "        [0., 0., 1.],\n",
            "        [0., 0., 1.],\n",
            "        [0., 0., 1.]])\n"
          ]
        }
      ]
    },
    {
      "cell_type": "code",
      "source": [
        "# Montar o modelo de redes neurais para classificação da Íris\n",
        "input_size = entrada_treinamento.size()[1]\n",
        "hidden_size = 20\n",
        "output_size = saida.size()[1] #3\n",
        "modelo = Net(input_size, hidden_size, output_size)\n",
        "print(modelo)\n",
        "\n",
        "# Configurações do modelo\n",
        "criterion = torch.nn.MSELoss()\n",
        "optimizer = torch.optim.SGD(modelo.parameters(), lr=0.9, momentum = 0.3)"
      ],
      "metadata": {
        "colab": {
          "base_uri": "https://localhost:8080/"
        },
        "id": "uhAFJTihd8tg",
        "outputId": "ffe297ed-1197-4e8d-9c8a-4ac4ae4bfdbf"
      },
      "execution_count": null,
      "outputs": [
        {
          "output_type": "stream",
          "name": "stdout",
          "text": [
            "Net(\n",
            "  (fc1): Linear(in_features=4, out_features=20, bias=True)\n",
            "  (relu): ReLU()\n",
            "  (fc2): Linear(in_features=20, out_features=3, bias=True)\n",
            "  (sigmoid): Sigmoid()\n",
            ")\n"
          ]
        }
      ]
    },
    {
      "cell_type": "code",
      "source": [
        "# Treinar o modelo com o algoritmo de retropropagation\n",
        "epochs = 10000\n",
        "errors = []\n",
        "modelo.train()\n",
        "for epoch in range(0, epochs+1):\n",
        "  optimizer.zero_grad()\n",
        "  # Forward pass\n",
        "  y_pred = modelo(entrada_treinamento)\n",
        "  # Compute loss\n",
        "  loss = criterion(y_pred.squeeze(), saida_treinamento)\n",
        "  errors.append(loss.item())\n",
        "  if epoch % 100 == 0:\n",
        "    print(f'Epoch {epoch}. Train loss: {loss.item()}')\n",
        "  loss.backward()\n",
        "  optimizer.step()"
      ],
      "metadata": {
        "colab": {
          "base_uri": "https://localhost:8080/"
        },
        "id": "QXnbwnUAiBQx",
        "outputId": "88bd1fa4-85ee-4c9c-c5a8-aa92f774d6c7"
      },
      "execution_count": null,
      "outputs": [
        {
          "output_type": "stream",
          "name": "stdout",
          "text": [
            "Epoch 0. Train loss: 0.24067845940589905\n",
            "Epoch 100. Train loss: 0.055680226534605026\n",
            "Epoch 200. Train loss: 0.02561424858868122\n",
            "Epoch 300. Train loss: 0.01871832273900509\n",
            "Epoch 400. Train loss: 0.016613222658634186\n",
            "Epoch 500. Train loss: 0.0155343571677804\n",
            "Epoch 600. Train loss: 0.014790483750402927\n",
            "Epoch 700. Train loss: 0.014244872145354748\n",
            "Epoch 800. Train loss: 0.01380503736436367\n",
            "Epoch 900. Train loss: 0.013434997759759426\n",
            "Epoch 1000. Train loss: 0.01312210876494646\n",
            "Epoch 1100. Train loss: 0.012849261052906513\n",
            "Epoch 1200. Train loss: 0.01260876189917326\n",
            "Epoch 1300. Train loss: 0.012394354678690434\n",
            "Epoch 1400. Train loss: 0.012203608639538288\n",
            "Epoch 1500. Train loss: 0.012034154497087002\n",
            "Epoch 1600. Train loss: 0.01188172772526741\n",
            "Epoch 1700. Train loss: 0.011743450537323952\n",
            "Epoch 1800. Train loss: 0.011620556004345417\n",
            "Epoch 1900. Train loss: 0.011510125361382961\n",
            "Epoch 2000. Train loss: 0.011409299448132515\n",
            "Epoch 2100. Train loss: 0.01131764892488718\n",
            "Epoch 2200. Train loss: 0.011234286241233349\n",
            "Epoch 2300. Train loss: 0.01115659810602665\n",
            "Epoch 2400. Train loss: 0.01108597218990326\n",
            "Epoch 2500. Train loss: 0.011021571233868599\n",
            "Epoch 2600. Train loss: 0.010961750522255898\n",
            "Epoch 2700. Train loss: 0.010905992239713669\n",
            "Epoch 2800. Train loss: 0.010853897780179977\n",
            "Epoch 2900. Train loss: 0.010805029422044754\n",
            "Epoch 3000. Train loss: 0.010759604163467884\n",
            "Epoch 3100. Train loss: 0.010716657154262066\n",
            "Epoch 3200. Train loss: 0.01067608967423439\n",
            "Epoch 3300. Train loss: 0.01063752081245184\n",
            "Epoch 3400. Train loss: 0.01060148049145937\n",
            "Epoch 3500. Train loss: 0.010567039251327515\n",
            "Epoch 3600. Train loss: 0.010534223169088364\n",
            "Epoch 3700. Train loss: 0.010502860881388187\n",
            "Epoch 3800. Train loss: 0.01047276146709919\n",
            "Epoch 3900. Train loss: 0.010443991981446743\n",
            "Epoch 4000. Train loss: 0.01041629258543253\n",
            "Epoch 4100. Train loss: 0.010389624163508415\n",
            "Epoch 4200. Train loss: 0.0103639280423522\n",
            "Epoch 4300. Train loss: 0.010339396074414253\n",
            "Epoch 4400. Train loss: 0.010315231047570705\n",
            "Epoch 4500. Train loss: 0.01029184553772211\n",
            "Epoch 4600. Train loss: 0.010269388556480408\n",
            "Epoch 4700. Train loss: 0.010247550904750824\n",
            "Epoch 4800. Train loss: 0.010226250626146793\n",
            "Epoch 4900. Train loss: 0.010205494239926338\n",
            "Epoch 5000. Train loss: 0.010185406543314457\n",
            "Epoch 5100. Train loss: 0.010165824554860592\n",
            "Epoch 5200. Train loss: 0.010146690532565117\n",
            "Epoch 5300. Train loss: 0.010127976536750793\n",
            "Epoch 5400. Train loss: 0.010109704919159412\n",
            "Epoch 5500. Train loss: 0.01009180024266243\n",
            "Epoch 5600. Train loss: 0.010074393823742867\n",
            "Epoch 5700. Train loss: 0.01005716435611248\n",
            "Epoch 5800. Train loss: 0.010040239430963993\n",
            "Epoch 5900. Train loss: 0.01002376526594162\n",
            "Epoch 6000. Train loss: 0.010007497854530811\n",
            "Epoch 6100. Train loss: 0.009991648606956005\n",
            "Epoch 6200. Train loss: 0.009976276196539402\n",
            "Epoch 6300. Train loss: 0.009960523806512356\n",
            "Epoch 6400. Train loss: 0.009945343248546124\n",
            "Epoch 6500. Train loss: 0.009930863045156002\n",
            "Epoch 6600. Train loss: 0.00991600938141346\n",
            "Epoch 6700. Train loss: 0.009898933582007885\n",
            "Epoch 6800. Train loss: 0.009735711850225925\n",
            "Epoch 6900. Train loss: 0.009682685136795044\n",
            "Epoch 7000. Train loss: 0.00963780377060175\n",
            "Epoch 7100. Train loss: 0.009595918469130993\n",
            "Epoch 7200. Train loss: 0.009556128643453121\n",
            "Epoch 7300. Train loss: 0.009518090635538101\n",
            "Epoch 7400. Train loss: 0.009481582790613174\n",
            "Epoch 7500. Train loss: 0.009479807689785957\n",
            "Epoch 7600. Train loss: 0.00934126228094101\n",
            "Epoch 7700. Train loss: 0.009691945277154446\n",
            "Epoch 7800. Train loss: 0.009680955670773983\n",
            "Epoch 7900. Train loss: 0.010016536340117455\n",
            "Epoch 8000. Train loss: 0.009381117299199104\n",
            "Epoch 8100. Train loss: 0.011509465985000134\n",
            "Epoch 8200. Train loss: 0.011117629706859589\n",
            "Epoch 8300. Train loss: 0.00997673999518156\n",
            "Epoch 8400. Train loss: 0.011143849231302738\n",
            "Epoch 8500. Train loss: 0.011926616542041302\n",
            "Epoch 8600. Train loss: 0.00920090265572071\n",
            "Epoch 8700. Train loss: 0.01324064563959837\n",
            "Epoch 8800. Train loss: 0.014410719275474548\n",
            "Epoch 8900. Train loss: 0.010541494004428387\n",
            "Epoch 9000. Train loss: 0.01263244729489088\n",
            "Epoch 9100. Train loss: 0.010021712630987167\n",
            "Epoch 9200. Train loss: 0.010145368054509163\n",
            "Epoch 9300. Train loss: 0.0105996523052454\n",
            "Epoch 9400. Train loss: 0.010747674852609634\n",
            "Epoch 9500. Train loss: 0.010751408524811268\n",
            "Epoch 9600. Train loss: 0.010861680842936039\n",
            "Epoch 9700. Train loss: 0.011050673201680183\n",
            "Epoch 9800. Train loss: 0.009333649650216103\n",
            "Epoch 9900. Train loss: 0.00970590952783823\n",
            "Epoch 10000. Train loss: 0.009056322276592255\n"
          ]
        }
      ]
    },
    {
      "cell_type": "code",
      "source": [
        "# Testar o modelo\n",
        "modelo.eval()\n",
        "y_pred = modelo(entrada_teste)\n",
        "print(torch.round(y_pred, decimals=2))\n",
        "print(saida_teste)"
      ],
      "metadata": {
        "colab": {
          "base_uri": "https://localhost:8080/"
        },
        "id": "u7ild5jRkkzh",
        "outputId": "792bd97f-4061-4f78-b2dd-3b54535f3727"
      },
      "execution_count": null,
      "outputs": [
        {
          "output_type": "stream",
          "name": "stdout",
          "text": [
            "tensor([[1.0000, 0.0000, 0.0000],\n",
            "        [0.0000, 1.0000, 0.0000],\n",
            "        [1.0000, 0.0000, 0.0000],\n",
            "        [0.0000, 1.0000, 0.0000],\n",
            "        [0.0000, 0.0000, 1.0000],\n",
            "        [0.0000, 1.0000, 0.0000],\n",
            "        [0.0000, 0.0000, 1.0000],\n",
            "        [0.0000, 0.0000, 1.0000],\n",
            "        [0.0000, 1.0000, 0.0000],\n",
            "        [1.0000, 0.0000, 0.0000],\n",
            "        [0.0000, 1.0000, 0.0000],\n",
            "        [1.0000, 0.0000, 0.0000],\n",
            "        [0.9900, 0.0100, 0.0000],\n",
            "        [1.0000, 0.0000, 0.0000],\n",
            "        [0.0000, 0.0000, 1.0000],\n",
            "        [1.0000, 0.0000, 0.0000],\n",
            "        [0.0000, 0.0000, 1.0000],\n",
            "        [0.0000, 0.1900, 0.8100],\n",
            "        [0.0000, 0.0000, 1.0000],\n",
            "        [0.0000, 0.0000, 1.0000]], grad_fn=<RoundBackward1>)\n",
            "tensor([[1., 0., 0.],\n",
            "        [0., 1., 0.],\n",
            "        [1., 0., 0.],\n",
            "        [0., 1., 0.],\n",
            "        [0., 0., 1.],\n",
            "        [0., 1., 0.],\n",
            "        [0., 0., 1.],\n",
            "        [0., 0., 1.],\n",
            "        [0., 1., 0.],\n",
            "        [1., 0., 0.],\n",
            "        [0., 1., 0.],\n",
            "        [1., 0., 0.],\n",
            "        [1., 0., 0.],\n",
            "        [1., 0., 0.],\n",
            "        [0., 0., 1.],\n",
            "        [1., 0., 0.],\n",
            "        [0., 0., 1.],\n",
            "        [0., 0., 1.],\n",
            "        [0., 0., 1.],\n",
            "        [0., 0., 1.]])\n"
          ]
        }
      ]
    },
    {
      "cell_type": "code",
      "source": [
        "entrada_teste"
      ],
      "metadata": {
        "id": "hMy-0bY9rw-w",
        "outputId": "90115fea-8e16-44f9-829a-7cb32a6434cd",
        "colab": {
          "base_uri": "https://localhost:8080/"
        }
      },
      "execution_count": null,
      "outputs": [
        {
          "output_type": "execute_result",
          "data": {
            "text/plain": [
              "tensor([[5.4000, 3.7000, 1.5000, 0.2000],\n",
              "        [6.4000, 3.2000, 4.5000, 1.5000],\n",
              "        [5.0000, 3.6000, 1.4000, 0.2000],\n",
              "        [5.0000, 2.0000, 3.5000, 1.0000],\n",
              "        [7.2000, 3.2000, 6.0000, 1.8000],\n",
              "        [6.3000, 3.3000, 4.7000, 1.6000],\n",
              "        [6.7000, 3.0000, 5.2000, 2.3000],\n",
              "        [7.1000, 3.0000, 5.9000, 2.1000],\n",
              "        [6.7000, 3.1000, 4.7000, 1.5000],\n",
              "        [4.8000, 3.0000, 1.4000, 0.1000],\n",
              "        [5.8000, 2.6000, 4.0000, 1.2000],\n",
              "        [4.7000, 3.2000, 1.3000, 0.2000],\n",
              "        [4.4000, 2.9000, 1.4000, 0.2000],\n",
              "        [5.0000, 3.2000, 1.2000, 0.2000],\n",
              "        [6.5000, 3.0000, 5.5000, 1.8000],\n",
              "        [5.0000, 3.4000, 1.5000, 0.2000],\n",
              "        [5.7000, 2.5000, 5.0000, 2.0000],\n",
              "        [6.2000, 2.8000, 4.8000, 1.8000],\n",
              "        [6.1000, 2.6000, 5.6000, 1.4000],\n",
              "        [7.6000, 3.0000, 6.6000, 2.1000]])"
            ]
          },
          "metadata": {},
          "execution_count": 19
        }
      ]
    },
    {
      "cell_type": "code",
      "source": [
        "# Gráficos\n",
        "def plotcharts(errors):\n",
        "    errors = np.array(errors)\n",
        "    plt.figure(figsize=(12, 5))\n",
        "    graf02 = plt.subplot(1, 2, 1) # nrows, ncols, index\n",
        "    graf02.set_title('Errors')\n",
        "    plt.plot(errors, '-')\n",
        "    plt.xlabel('Epochs')\n",
        "    graf03 = plt.subplot(1, 2, 2)\n",
        "    graf03.set_title('Tests')\n",
        "    a = plt.plot(saida_teste.numpy(), 'yo', label='Real')\n",
        "    plt.setp(a, markersize=10)\n",
        "    a = plt.plot(y_pred.detach().numpy(), 'b+', label='Predicted')\n",
        "    plt.setp(a, markersize=10)\n",
        "    plt.legend(loc=7)\n",
        "    plt.show()\n",
        "plotcharts(errors)\n"
      ],
      "metadata": {
        "colab": {
          "base_uri": "https://localhost:8080/",
          "height": 487
        },
        "id": "_rlNThFbmXtZ",
        "outputId": "9ac20c74-a4e8-448a-b063-1be9f6c1ea78"
      },
      "execution_count": null,
      "outputs": [
        {
          "output_type": "display_data",
          "data": {
            "text/plain": [
              "<Figure size 1200x500 with 2 Axes>"
            ],
            "image/png": "[encoded data removed]"
          },
          "metadata": {}
        }
      ]
    },
    {
      "cell_type": "code",
      "source": [
        "# Salvar o modelo\n",
        "torch.save(modelo.state_dict(), 'iris.dat')"
      ],
      "metadata": {
        "id": "VTuW_Xt3ocTv"
      },
      "execution_count": null,
      "outputs": []
    },
    {
      "cell_type": "code",
      "source": [
        "# Salvar o modelo escriptado\n",
        "model_scripted = torch.jit.script(modelo)\n",
        "model_scripted.save('model_scripted.pt')"
      ],
      "metadata": {
        "id": "QSwFupZEcI-n"
      },
      "execution_count": null,
      "outputs": []
    },
    {
      "cell_type": "code",
      "source": [
        "# Carregar o modelo escriptado\n",
        "torch.jit.load('model_scripted.pt')"
      ],
      "metadata": {
        "id": "Ee_pLbA5cebJ"
      },
      "execution_count": null,
      "outputs": []
    },
    {
      "cell_type": "code",
      "source": [
        "# Carregar o modelo já salvo\n",
        "model = Net(input_size, hidden_size, output_size)\n",
        "model.load_state_dict(torch.load('iris.dat', weights_only=True))\n",
        "model.eval()"
      ],
      "metadata": {
        "colab": {
          "base_uri": "https://localhost:8080/"
        },
        "id": "Ed68yIUXous2",
        "outputId": "57d745cc-4fe3-4ae5-b150-3108f2d10745"
      },
      "execution_count": null,
      "outputs": [
        {
          "output_type": "execute_result",
          "data": {
            "text/plain": [
              "Net(\n",
              "  (fc1): Linear(in_features=4, out_features=20, bias=True)\n",
              "  (relu): ReLU()\n",
              "  (fc2): Linear(in_features=20, out_features=3, bias=True)\n",
              "  (sigmoid): Sigmoid()\n",
              ")"
            ]
          },
          "metadata": {},
          "execution_count": 17
        }
      ]
    }
  ]
}